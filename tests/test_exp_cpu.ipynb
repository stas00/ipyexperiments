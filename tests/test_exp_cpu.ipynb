{
 "cells": [
  {
   "cell_type": "code",
   "execution_count": 1,
   "metadata": {},
   "outputs": [],
   "source": [
    "%reload_ext autoreload\n",
    "%autoreload 2"
   ]
  },
  {
   "cell_type": "code",
   "execution_count": 2,
   "metadata": {},
   "outputs": [],
   "source": [
    "import os\n",
    "os.environ[\"CUDA_VISIBLE_DEVICES\"]=\"0\"\n",
    "os.environ[\"CUDA_DEVICE_ORDER\"]=\"PCI_BUS_ID\""
   ]
  },
  {
   "cell_type": "markdown",
   "metadata": {},
   "source": [
    "## Setup"
   ]
  },
  {
   "cell_type": "code",
   "execution_count": 3,
   "metadata": {},
   "outputs": [],
   "source": [
    "from math import isclose\n",
    "from ipyexperiments import IPyExperimentsCPU\n",
    "import ipyexperiments\n",
    "import re\n",
    "from utils.text import check_report_strings, check_data, check_report_cpu, consume_cpu_ram_128mb, consume_gpu_ram_256mb, locals_unset, check_reclaimed, check_defined, check_undefined, print_output"
   ]
  },
  {
   "cell_type": "code",
   "execution_count": 4,
   "metadata": {},
   "outputs": [
    {
     "data": {
      "text/plain": [
       "'test_version'"
      ]
     },
     "execution_count": 4,
     "metadata": {},
     "output_type": "execute_result"
    }
   ],
   "source": [
    "\"\"\"test_version\"\"\"\n",
    "assert ipyexperiments.__version__, \"version check\""
   ]
  },
  {
   "cell_type": "markdown",
   "metadata": {},
   "source": [
    "## Basic container test\n"
   ]
  },
  {
   "cell_type": "code",
   "execution_count": 5,
   "metadata": {},
   "outputs": [],
   "source": [
    "%%capture output\n",
    "locals_unset(['exp1', 'x1', 'x2'])\n",
    "\n",
    "exp1 = IPyExperimentsCPU(cl_enable=False)\n",
    "\n",
    "x2 = consume_cpu_ram_128mb()\n",
    "x1 = consume_cpu_ram_128mb()\n",
    "check_defined(['x1', 'x2'])\n",
    "\n",
    "#exp1.finish()\n",
    "del exp1\n",
    "check_undefined(['x1', 'x2'])\n",
    "\n",
    "# cleanup\n",
    "locals_unset(['exp1', 'x1', 'x2'])"
   ]
  },
  {
   "cell_type": "code",
   "execution_count": 6,
   "metadata": {},
   "outputs": [
    {
     "name": "stdout",
     "output_type": "stream",
     "text": [
      "Captured output:\n",
      "============================================================\n",
      "| \n",
      "| *** Experiment started with the CPU-only backend\n",
      "| \n",
      "| \n",
      "| *** Current state:\n",
      "| RAM:     Used     Free    Total        Util\n",
      "| CPU:    1,056   87,856  128,696 MB   0.82% \n",
      "| \n",
      "| \n",
      "| \n",
      "| IPyExperimentsCPU: Finishing\n",
      "| \n",
      "| *** Experiment finished in 00:00:00 (elapsed wallclock time)\n",
      "| \n",
      "| *** Newly defined local variables:\n",
      "| Deleted: x1, x2\n",
      "| \n",
      "| *** Experiment memory:\n",
      "| RAM: Consumed       Reclaimed\n",
      "| CPU:      256      255 MB ( 99.99%)\n",
      "| \n",
      "| *** Current state:\n",
      "| RAM:     Used     Free    Total        Util\n",
      "| CPU:    1,056   87,849  128,696 MB   0.82% \n",
      "| \n",
      "| \n",
      "| \n",
      "============================================================\n",
      "\n"
     ]
    }
   ],
   "source": [
    "output = str(output)\n",
    "print_output(output)\n",
    "check_reclaimed(output)"
   ]
  },
  {
   "cell_type": "markdown",
   "metadata": {
    "scrolled": true
   },
   "source": [
    "## Test stats data and selective vars preservation"
   ]
  },
  {
   "cell_type": "code",
   "execution_count": 7,
   "metadata": {},
   "outputs": [],
   "source": [
    "%%capture output\n",
    "exp2 = IPyExperimentsCPU(cl_enable=False) \n",
    "x1 = consume_cpu_ram_128mb()\n",
    "\n",
    "cpu_data = exp2.data.cpu\n",
    "assert cpu_data\n",
    "print(cpu_data)\n",
    "\n",
    "exp2.keep_var_names('cpu_data')\n",
    "\n",
    "x2 = consume_cpu_ram_128mb() \n",
    "\n",
    "cpu_data = exp2.data.cpu\n",
    "print(cpu_data)\n",
    "\n",
    "check_defined(['x1', 'x2', 'cpu_data'])\n",
    "\n",
    "\n",
    "data = exp2.finish() # finish experiment\n",
    "cpu_data_final = data.cpu\n",
    "print(\"\\nNumerical data:\\n\", cpu_data_final)\n",
    "\n",
    "check_defined(['cpu_data_final'])\n",
    "check_undefined(['x1', 'x2'])"
   ]
  },
  {
   "cell_type": "code",
   "execution_count": 8,
   "metadata": {},
   "outputs": [
    {
     "name": "stdout",
     "output_type": "stream",
     "text": [
      "Captured output:\n",
      "============================================================\n",
      "| \n",
      "| *** Experiment started with the CPU-only backend\n",
      "| \n",
      "| \n",
      "| *** Current state:\n",
      "| RAM:     Used     Free    Total        Util\n",
      "| CPU:    1,056   87,850  128,696 MB   0.82% \n",
      "| \n",
      "| \n",
      "| IPyExperimentMemory(consumed=134017024, reclaimed=0, available=91983151104)\n",
      "| IPyExperimentMemory(consumed=268312576, reclaimed=0, available=91848683520)\n",
      "| \n",
      "| IPyExperimentsCPU: Finishing\n",
      "| \n",
      "| *** Experiment finished in 00:00:00 (elapsed wallclock time)\n",
      "| \n",
      "| *** Newly defined local variables:\n",
      "| Deleted: x1, x2\n",
      "| Kept:    cpu_data\n",
      "| \n",
      "| *** Experiment memory:\n",
      "| RAM: Consumed       Reclaimed\n",
      "| CPU:      255      255 MB ( 99.98%)\n",
      "| \n",
      "| *** Current state:\n",
      "| RAM:     Used     Free    Total        Util\n",
      "| CPU:    1,056   87,848  128,696 MB   0.82% \n",
      "| \n",
      "| \n",
      "| \n",
      "| Numerical data:\n",
      "|  IPyExperimentMemory(consumed=268312576, reclaimed=268251136, available=92116037632)\n",
      "| \n",
      "============================================================\n",
      "\n"
     ]
    }
   ],
   "source": [
    "output = str(output)\n",
    "print_output(output)\n",
    "check_reclaimed(output)\n",
    "check_data(output, cpu_data_final)"
   ]
  },
  {
   "cell_type": "markdown",
   "metadata": {},
   "source": [
    "## Using the context manager\n",
    "\n",
    "If you want to put all cells into one, you could simplify the experiment even further by using its context manager."
   ]
  },
  {
   "cell_type": "code",
   "execution_count": 9,
   "metadata": {},
   "outputs": [],
   "source": [
    "%%capture output\n",
    "with IPyExperimentsCPU(cl_enable=False):\n",
    "    x1 = consume_cpu_ram_128mb()\n",
    "    x2 = consume_cpu_ram_128mb()\n",
    "    \n",
    "check_undefined(['x1', 'x2'])"
   ]
  },
  {
   "cell_type": "code",
   "execution_count": 10,
   "metadata": {},
   "outputs": [
    {
     "name": "stdout",
     "output_type": "stream",
     "text": [
      "Captured output:\n",
      "============================================================\n",
      "| \n",
      "| *** Experiment started with the CPU-only backend\n",
      "| \n",
      "| \n",
      "| *** Current state:\n",
      "| RAM:     Used     Free    Total        Util\n",
      "| CPU:    1,056   87,849  128,696 MB   0.82% \n",
      "| \n",
      "| \n",
      "| \n",
      "| IPyExperimentsCPU: Finishing\n",
      "| \n",
      "| *** Experiment finished in 00:00:00 (elapsed wallclock time)\n",
      "| \n",
      "| *** Newly defined local variables:\n",
      "| Deleted: x1, x2\n",
      "| \n",
      "| *** Experiment memory:\n",
      "| RAM: Consumed       Reclaimed\n",
      "| CPU:      255      255 MB (100.00%)\n",
      "| \n",
      "| *** Current state:\n",
      "| RAM:     Used     Free    Total        Util\n",
      "| CPU:    1,056   87,848  128,696 MB   0.82% \n",
      "| \n",
      "| \n",
      "| \n",
      "============================================================\n",
      "\n"
     ]
    }
   ],
   "source": [
    "output = str(output)\n",
    "print_output(output)\n",
    "check_reclaimed(output)"
   ]
  },
  {
   "cell_type": "code",
   "execution_count": 11,
   "metadata": {},
   "outputs": [],
   "source": [
    "%%capture output\n",
    "with IPyExperimentsCPU(cl_enable=False) as exp: \n",
    "    x1 = consume_cpu_ram_128mb()\n",
    "    z = \"some data\"\n",
    "    x2 = consume_cpu_ram_128mb()\n",
    "    exp.keep_var_names('z')\n",
    "print(z)\n",
    "check_defined(['z'])\n",
    "check_undefined(['x1', 'x2'])"
   ]
  },
  {
   "cell_type": "code",
   "execution_count": 12,
   "metadata": {},
   "outputs": [
    {
     "name": "stdout",
     "output_type": "stream",
     "text": [
      "Captured output:\n",
      "============================================================\n",
      "| \n",
      "| *** Experiment started with the CPU-only backend\n",
      "| \n",
      "| \n",
      "| *** Current state:\n",
      "| RAM:     Used     Free    Total        Util\n",
      "| CPU:    1,056   87,848  128,696 MB   0.82% \n",
      "| \n",
      "| \n",
      "| \n",
      "| IPyExperimentsCPU: Finishing\n",
      "| \n",
      "| *** Experiment finished in 00:00:00 (elapsed wallclock time)\n",
      "| \n",
      "| *** Newly defined local variables:\n",
      "| Deleted: x1, x2\n",
      "| Kept:    z\n",
      "| \n",
      "| *** Experiment memory:\n",
      "| RAM: Consumed       Reclaimed\n",
      "| CPU:      255      255 MB (100.00%)\n",
      "| \n",
      "| *** Current state:\n",
      "| RAM:     Used     Free    Total        Util\n",
      "| CPU:    1,056   87,848  128,696 MB   0.82% \n",
      "| \n",
      "| \n",
      "| some data\n",
      "| \n",
      "============================================================\n",
      "\n"
     ]
    }
   ],
   "source": [
    "output = str(output)\n",
    "print_output(output)\n",
    "check_reclaimed(output)"
   ]
  },
  {
   "cell_type": "markdown",
   "metadata": {},
   "source": [
    "## Deleting previously defined variables\n",
    "\n",
    "Here we test that we **cannot** correctly detect and delete variables used in the scope of the experiment, but which were already defined prior to the experiment."
   ]
  },
  {
   "cell_type": "code",
   "execution_count": 13,
   "metadata": {},
   "outputs": [],
   "source": [
    "%%capture output\n",
    "x3 = 10\n",
    "x4 = 20\n",
    "with IPyExperimentsCPU(cl_enable=False): \n",
    "    x1 = consume_cpu_ram_128mb()\n",
    "    x2 = consume_cpu_ram_128mb()\n",
    "    x3 = 10\n",
    "    x4 = 10000\n",
    "# x3 is the same value, so we can't tell the difference whether it was created before the experiment or not\n",
    "# x4 is different from previous value, but it could have been modified by some function indirectly and not used directly in the experiment\n",
    "check_defined(['x3', 'x4'])\n",
    "# x3 is newly defined, so it gets deleted\n",
    "check_undefined(['x1', 'x2'])"
   ]
  },
  {
   "cell_type": "code",
   "execution_count": 14,
   "metadata": {
    "scrolled": true
   },
   "outputs": [
    {
     "name": "stdout",
     "output_type": "stream",
     "text": [
      "Captured output:\n",
      "============================================================\n",
      "| \n",
      "| *** Experiment started with the CPU-only backend\n",
      "| \n",
      "| \n",
      "| *** Current state:\n",
      "| RAM:     Used     Free    Total        Util\n",
      "| CPU:    1,056   87,848  128,696 MB   0.82% \n",
      "| \n",
      "| \n",
      "| \n",
      "| IPyExperimentsCPU: Finishing\n",
      "| \n",
      "| *** Experiment finished in 00:00:00 (elapsed wallclock time)\n",
      "| \n",
      "| *** Newly defined local variables:\n",
      "| Deleted: x1, x2\n",
      "| \n",
      "| *** Experiment memory:\n",
      "| RAM: Consumed       Reclaimed\n",
      "| CPU:      255      255 MB (100.00%)\n",
      "| \n",
      "| *** Current state:\n",
      "| RAM:     Used     Free    Total        Util\n",
      "| CPU:    1,056   87,848  128,696 MB   0.82% \n",
      "| \n",
      "| \n",
      "| \n",
      "============================================================\n",
      "\n"
     ]
    }
   ],
   "source": [
    "output = str(output)\n",
    "print_output(output)\n",
    "check_reclaimed(output)"
   ]
  },
  {
   "cell_type": "markdown",
   "metadata": {},
   "source": [
    "Same but with the CellLogger enabled"
   ]
  },
  {
   "cell_type": "code",
   "execution_count": 15,
   "metadata": {},
   "outputs": [],
   "source": [
    "%%capture output\n",
    "x3 = 10\n",
    "x4 = 20\n",
    "with IPyExperimentsCPU(cl_enable=True): \n",
    "    x1 = consume_cpu_ram_128mb()\n",
    "    x2 = consume_cpu_ram_128mb()\n",
    "    x3 = 10\n",
    "    x4 = 10000\n",
    "# x3 is the same value, so we can't tell the difference whether it was created before the experiment or not\n",
    "# x4 is different from previous value, but it could have been modified by some function indirectly and not used directly in the experiment\n",
    "check_defined(['x3', 'x4'])\n",
    "# x3 is newly defined, so it gets deleted\n",
    "check_undefined(['x1', 'x2'])"
   ]
  },
  {
   "cell_type": "code",
   "execution_count": 16,
   "metadata": {
    "scrolled": true
   },
   "outputs": [
    {
     "name": "stdout",
     "output_type": "stream",
     "text": [
      "Captured output:\n",
      "============================================================\n",
      "| \n",
      "| *** Experiment started with the CPU-only backend\n",
      "| \n",
      "| \n",
      "| *** Current state:\n",
      "| RAM:     Used     Free    Total        Util\n",
      "| CPU:    1,056   87,848  128,696 MB   0.82% \n",
      "| \n",
      "| \n",
      "| ･ RAM:  △Consumed    △Peaked    Used Total | Exec time 0:00:00.028\n",
      "| ･ CPU:        255          0      1,311 MB |\n",
      "| \n",
      "| IPyExperimentsCPU: Finishing\n",
      "| \n",
      "| *** Experiment finished in 00:00:00 (elapsed wallclock time)\n",
      "| \n",
      "| *** Newly defined local variables:\n",
      "| Deleted: x1, x2\n",
      "| \n",
      "| *** Experiment memory:\n",
      "| RAM: Consumed       Reclaimed\n",
      "| CPU:      255      255 MB (100.00%)\n",
      "| \n",
      "| *** Current state:\n",
      "| RAM:     Used     Free    Total        Util\n",
      "| CPU:    1,056   87,813  128,696 MB   0.82% \n",
      "| \n",
      "| \n",
      "| \n",
      "============================================================\n",
      "\n"
     ]
    }
   ],
   "source": [
    "output = str(output)\n",
    "print_output(output)\n",
    "check_reclaimed(output)"
   ]
  },
  {
   "cell_type": "code",
   "execution_count": null,
   "metadata": {},
   "outputs": [],
   "source": []
  },
  {
   "cell_type": "code",
   "execution_count": null,
   "metadata": {},
   "outputs": [],
   "source": [
    "%%javascript # prevent committing an unsaved notebook\n",
    "IPython.notebook.save_notebook()"
   ]
  }
 ],
 "metadata": {
  "hide_input": false,
  "kernelspec": {
   "display_name": "Python 3",
   "language": "python",
   "name": "python3"
  },
  "language_info": {
   "codemirror_mode": {
    "name": "ipython",
    "version": 3
   },
   "file_extension": ".py",
   "mimetype": "text/x-python",
   "name": "python",
   "nbconvert_exporter": "python",
   "pygments_lexer": "ipython3",
   "version": "3.8.10"
  },
  "toc": {
   "base_numbering": 1,
   "nav_menu": {},
   "number_sections": true,
   "sideBar": true,
   "skip_h1_title": false,
   "title_cell": "Table of Contents",
   "title_sidebar": "Contents",
   "toc_cell": false,
   "toc_position": {
    "height": "calc(100% - 180px)",
    "left": "10px",
    "top": "150px",
    "width": "285px"
   },
   "toc_section_display": true,
   "toc_window_display": true
  },
  "varInspector": {
   "cols": {
    "lenName": 16,
    "lenType": 16,
    "lenVar": 40
   },
   "kernels_config": {
    "python": {
     "delete_cmd_postfix": "",
     "delete_cmd_prefix": "del ",
     "library": "var_list.py",
     "varRefreshCmd": "print(var_dic_list())"
    },
    "r": {
     "delete_cmd_postfix": ") ",
     "delete_cmd_prefix": "rm(",
     "library": "var_list.r",
     "varRefreshCmd": "cat(var_dic_list()) "
    }
   },
   "position": {
    "height": "323px",
    "left": "956px",
    "right": "20px",
    "top": "152px",
    "width": "350px"
   },
   "types_to_exclude": [
    "module",
    "function",
    "builtin_function_or_method",
    "instance",
    "_Feature"
   ],
   "window_display": false
  }
 },
 "nbformat": 4,
 "nbformat_minor": 2
}
