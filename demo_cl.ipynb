{
 "cells": [
  {
   "cell_type": "markdown",
   "metadata": {},
   "source": [
    "# CellLogger Demo"
   ]
  },
  {
   "cell_type": "code",
   "execution_count": 1,
   "metadata": {},
   "outputs": [],
   "source": [
    "%reload_ext autoreload\n",
    "%autoreload 2"
   ]
  },
  {
   "cell_type": "markdown",
   "metadata": {},
   "source": [
    "# Setup"
   ]
  },
  {
   "cell_type": "code",
   "execution_count": 2,
   "metadata": {},
   "outputs": [],
   "source": [
    "import numpy as np\n",
    "import torch\n",
    "from ipyexperiments import IPyExperimentsPytorch"
   ]
  },
  {
   "cell_type": "code",
   "execution_count": 3,
   "metadata": {},
   "outputs": [],
   "source": [
    "def consume_cpu_ram(n): return np.ones((n, n))\n",
    "def consume_gpu_ram(n): return torch.ones((n, n)).cuda()\n",
    "def consume_cpu_ram_128mb(): return consume_cpu_ram(2**12)\n",
    "def consume_gpu_ram_256mb(): return consume_gpu_ram(2**13)"
   ]
  },
  {
   "cell_type": "markdown",
   "metadata": {},
   "source": [
    "# Main functionality"
   ]
  },
  {
   "cell_type": "code",
   "execution_count": 4,
   "metadata": {},
   "outputs": [
    {
     "name": "stdout",
     "output_type": "stream",
     "text": [
      "\n",
      "*** Experiment started with the Pytorch backend\n",
      "Device: ID 0, NVIDIA GeForce RTX 3090 (8119 RAM)\n",
      "\n",
      "･ RAM:  △Consumed    △Peaked    Used Total | Exec time 0:00:00.000\n",
      "･ CPU:          0          0      4,868 MB |\n",
      "･ GPU:          0          0        795 MB |\n"
     ]
    }
   ],
   "source": [
    "exp1 = IPyExperimentsPytorch(exp_enable=False)"
   ]
  },
  {
   "cell_type": "code",
   "execution_count": 5,
   "metadata": {},
   "outputs": [
    {
     "name": "stdout",
     "output_type": "stream",
     "text": [
      "･ RAM:  △Consumed    △Peaked    Used Total | Exec time 0:00:00.029\n",
      "･ CPU:        255          0      5,124 MB |\n",
      "･ GPU:          0          0        795 MB |\n"
     ]
    }
   ],
   "source": [
    "# consume, consume more\n",
    "a1 = consume_cpu_ram_128mb()\n",
    "a2 = consume_cpu_ram_128mb()"
   ]
  },
  {
   "cell_type": "code",
   "execution_count": 6,
   "metadata": {},
   "outputs": [
    {
     "name": "stdout",
     "output_type": "stream",
     "text": [
      "･ RAM:  △Consumed    △Peaked    Used Total | Exec time 0:00:00.079\n",
      "･ CPU:       -127        128      4,996 MB |\n",
      "･ GPU:          0          0        795 MB |\n"
     ]
    }
   ],
   "source": [
    "# consume, consume more, then release some (temporarily requires double the memory)\n",
    "a1 = consume_cpu_ram_128mb()\n",
    "a2 = consume_cpu_ram_128mb()\n",
    "del a1"
   ]
  },
  {
   "cell_type": "code",
   "execution_count": 7,
   "metadata": {},
   "outputs": [
    {
     "name": "stdout",
     "output_type": "stream",
     "text": [
      "･ RAM:  △Consumed    △Peaked    Used Total | Exec time 0:00:00.029\n",
      "･ CPU:          0        127      4,996 MB |\n",
      "･ GPU:          0          0        795 MB |\n"
     ]
    }
   ],
   "source": [
    "# consume, release, then consume more (half the memory is needed at the peak)\n",
    "a1 = consume_cpu_ram_128mb()\n",
    "del a1\n",
    "a2 = consume_cpu_ram_128mb()"
   ]
  },
  {
   "cell_type": "code",
   "execution_count": 8,
   "metadata": {},
   "outputs": [
    {
     "name": "stdout",
     "output_type": "stream",
     "text": [
      "･ RAM:  △Consumed    △Peaked    Used Total | Exec time 0:00:00.029\n",
      "･ CPU:          0        255      4,996 MB |\n",
      "･ GPU:          0          0        795 MB |\n"
     ]
    }
   ],
   "source": [
    "# consume, consume more, release all (all memory get reclaimed)\n",
    "b1 = consume_cpu_ram_128mb()\n",
    "b2 = consume_cpu_ram_128mb()\n",
    "del b1\n",
    "del b2"
   ]
  },
  {
   "cell_type": "code",
   "execution_count": 9,
   "metadata": {},
   "outputs": [
    {
     "name": "stdout",
     "output_type": "stream",
     "text": [
      "･ RAM:  △Consumed    △Peaked    Used Total | Exec time 0:00:00.160\n",
      "･ CPU:          0        255      4,996 MB |\n",
      "･ GPU:          0          0        795 MB |\n"
     ]
    }
   ],
   "source": [
    "# same on gpu\n",
    "c1 = consume_gpu_ram_256mb()\n",
    "c2 = consume_gpu_ram_256mb()\n",
    "del c1"
   ]
  },
  {
   "cell_type": "code",
   "execution_count": 10,
   "metadata": {},
   "outputs": [
    {
     "data": {
      "text/plain": [
       "CellLoggerMemory(used_delta=364544, peaked_delta=268304384, used_total=5239545856)"
      ]
     },
     "execution_count": 10,
     "metadata": {},
     "output_type": "execute_result"
    },
    {
     "data": {
      "text/plain": [
       "CellLoggerMemory(used_delta=0, peaked_delta=0, used_total=833683456)"
      ]
     },
     "execution_count": 10,
     "metadata": {},
     "output_type": "execute_result"
    },
    {
     "data": {
      "text/plain": [
       "CellLoggerTime(time_delta=0.16023707389831543)"
      ]
     },
     "execution_count": 10,
     "metadata": {},
     "output_type": "execute_result"
    },
    {
     "data": {
      "text/plain": [
       "0"
      ]
     },
     "execution_count": 10,
     "metadata": {},
     "output_type": "execute_result"
    },
    {
     "name": "stdout",
     "output_type": "stream",
     "text": [
      "･ RAM:  △Consumed    △Peaked    Used Total | Exec time 0:00:00.009\n",
      "･ CPU:          0          0      4,996 MB |\n",
      "･ GPU:          0          0        795 MB |\n"
     ]
    }
   ],
   "source": [
    "# direct data accessor (in unrounded Bytes)\n",
    "cpu_mem   = exp1.cl.data.cpu\n",
    "gpu_mem   = exp1.cl.data.gpu\n",
    "time_data = exp1.cl.data.time\n",
    "cpu_mem\n",
    "gpu_mem\n",
    "time_data\n",
    "gpu_mem.used_delta"
   ]
  },
  {
   "cell_type": "code",
   "execution_count": 11,
   "metadata": {},
   "outputs": [
    {
     "name": "stdout",
     "output_type": "stream",
     "text": [
      "･ RAM:  △Consumed    △Peaked    Used Total | Exec time 0:00:00.000\n",
      "･ CPU:          0          0      4,996 MB |\n",
      "･ GPU:          0          0        795 MB |\n"
     ]
    }
   ],
   "source": [
    "exp1.cl.stop()"
   ]
  },
  {
   "cell_type": "code",
   "execution_count": 12,
   "metadata": {},
   "outputs": [],
   "source": [
    "# there should be no log appearing, after the logger has been stopped\n",
    "a = consume_cpu_ram_128mb()"
   ]
  },
  {
   "cell_type": "markdown",
   "metadata": {},
   "source": [
    "# Automatically reset NRG seed"
   ]
  },
  {
   "cell_type": "code",
   "execution_count": 13,
   "metadata": {},
   "outputs": [
    {
     "name": "stdout",
     "output_type": "stream",
     "text": [
      "\n",
      "*** Experiment started with the Pytorch backend\n",
      "Device: ID 0, NVIDIA GeForce RTX 3090 (8119 RAM)\n",
      "\n",
      "CPU: 0/0/5124 MB | GPU: 0/0/795 MB | Time 0:00:00.000 | (Consumed/Peaked/Used Total)\n"
     ]
    }
   ],
   "source": [
    "exp2 = IPyExperimentsPytorch(exp_enable=False, cl_set_seed=42, cl_compact=True)"
   ]
  },
  {
   "cell_type": "code",
   "execution_count": 14,
   "metadata": {},
   "outputs": [
    {
     "name": "stdout",
     "output_type": "stream",
     "text": [
      "CPU: 0/0/5124 MB | GPU: 0/0/795 MB | Time 0:00:00.000 | (Consumed/Peaked/Used Total)\n"
     ]
    }
   ],
   "source": [
    "rnd1 = np.random.random()"
   ]
  },
  {
   "cell_type": "code",
   "execution_count": 15,
   "metadata": {},
   "outputs": [
    {
     "name": "stdout",
     "output_type": "stream",
     "text": [
      "CPU: 0/0/5124 MB | GPU: 0/0/795 MB | Time 0:00:00.004 | (Consumed/Peaked/Used Total)\n"
     ]
    }
   ],
   "source": [
    "rnd2 = np.random.random()\n",
    "assert rnd1 == rnd2, f\"values should be the same rnd1={rnd1} rnd2={rnd2}\""
   ]
  },
  {
   "cell_type": "code",
   "execution_count": 16,
   "metadata": {},
   "outputs": [
    {
     "name": "stdout",
     "output_type": "stream",
     "text": [
      "CPU: 0/0/5124 MB | GPU: 0/0/795 MB | Time 0:00:00.004 | (Consumed/Peaked/Used Total)\n"
     ]
    }
   ],
   "source": [
    "del exp2 # cleanup"
   ]
  },
  {
   "cell_type": "code",
   "execution_count": null,
   "metadata": {},
   "outputs": [],
   "source": [
    "%%javascript # prevent committing an unsaved notebook\n",
    "_=IPython.notebook.save_notebook()"
   ]
  }
 ],
 "metadata": {
  "hide_input": false,
  "kernelspec": {
   "display_name": "Python 3",
   "language": "python",
   "name": "python3"
  },
  "language_info": {
   "codemirror_mode": {
    "name": "ipython",
    "version": 3
   },
   "file_extension": ".py",
   "mimetype": "text/x-python",
   "name": "python",
   "nbconvert_exporter": "python",
   "pygments_lexer": "ipython3",
   "version": "3.8.10"
  },
  "toc": {
   "base_numbering": 1,
   "nav_menu": {},
   "number_sections": true,
   "sideBar": true,
   "skip_h1_title": false,
   "title_cell": "Table of Contents",
   "title_sidebar": "Contents",
   "toc_cell": false,
   "toc_position": {
    "height": "calc(100% - 180px)",
    "left": "10px",
    "top": "150px",
    "width": "285px"
   },
   "toc_section_display": true,
   "toc_window_display": true
  },
  "varInspector": {
   "cols": {
    "lenName": 16,
    "lenType": 16,
    "lenVar": 40
   },
   "kernels_config": {
    "python": {
     "delete_cmd_postfix": "",
     "delete_cmd_prefix": "del ",
     "library": "var_list.py",
     "varRefreshCmd": "print(var_dic_list())"
    },
    "r": {
     "delete_cmd_postfix": ") ",
     "delete_cmd_prefix": "rm(",
     "library": "var_list.r",
     "varRefreshCmd": "cat(var_dic_list()) "
    }
   },
   "position": {
    "height": "323px",
    "left": "956px",
    "right": "20px",
    "top": "152px",
    "width": "350px"
   },
   "types_to_exclude": [
    "module",
    "function",
    "builtin_function_or_method",
    "instance",
    "_Feature"
   ],
   "window_display": false
  }
 },
 "nbformat": 4,
 "nbformat_minor": 2
}
